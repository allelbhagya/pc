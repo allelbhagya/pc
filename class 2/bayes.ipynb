{
 "cells": [
  {
   "cell_type": "markdown",
   "metadata": {},
   "source": [
    "# Assignment - 2\n",
    "## Bayes Classifier from scratch"
   ]
  },
  {
   "cell_type": "code",
   "execution_count": 609,
   "metadata": {},
   "outputs": [],
   "source": [
    "import numpy as np\n",
    "import matplotlib.pyplot as plt\n",
    "from sklearn import datasets\n",
    "from sklearn.model_selection import train_test_split\n",
    "import pandas as pd\n",
    "from sklearn.metrics import confusion_matrix, accuracy_score"
   ]
  },
  {
   "cell_type": "markdown",
   "metadata": {},
   "source": [
    "## initializing iris dataset"
   ]
  },
  {
   "cell_type": "code",
   "execution_count": 610,
   "metadata": {},
   "outputs": [],
   "source": [
    "iris = datasets.load_iris()\n",
    "X = iris.data\n",
    "y = iris.target\n",
    "iris_data = pd.DataFrame(X, columns=iris.feature_names)\n",
    "iris_data['species'] = y"
   ]
  },
  {
   "cell_type": "code",
   "execution_count": 611,
   "metadata": {},
   "outputs": [
    {
     "data": {
      "text/html": [
       "<div>\n",
       "<style scoped>\n",
       "    .dataframe tbody tr th:only-of-type {\n",
       "        vertical-align: middle;\n",
       "    }\n",
       "\n",
       "    .dataframe tbody tr th {\n",
       "        vertical-align: top;\n",
       "    }\n",
       "\n",
       "    .dataframe thead th {\n",
       "        text-align: right;\n",
       "    }\n",
       "</style>\n",
       "<table border=\"1\" class=\"dataframe\">\n",
       "  <thead>\n",
       "    <tr style=\"text-align: right;\">\n",
       "      <th></th>\n",
       "      <th>sepal length (cm)</th>\n",
       "      <th>sepal width (cm)</th>\n",
       "      <th>petal length (cm)</th>\n",
       "      <th>petal width (cm)</th>\n",
       "      <th>species</th>\n",
       "    </tr>\n",
       "  </thead>\n",
       "  <tbody>\n",
       "    <tr>\n",
       "      <th>0</th>\n",
       "      <td>5.1</td>\n",
       "      <td>3.5</td>\n",
       "      <td>1.4</td>\n",
       "      <td>0.2</td>\n",
       "      <td>0</td>\n",
       "    </tr>\n",
       "    <tr>\n",
       "      <th>1</th>\n",
       "      <td>4.9</td>\n",
       "      <td>3.0</td>\n",
       "      <td>1.4</td>\n",
       "      <td>0.2</td>\n",
       "      <td>0</td>\n",
       "    </tr>\n",
       "    <tr>\n",
       "      <th>2</th>\n",
       "      <td>4.7</td>\n",
       "      <td>3.2</td>\n",
       "      <td>1.3</td>\n",
       "      <td>0.2</td>\n",
       "      <td>0</td>\n",
       "    </tr>\n",
       "    <tr>\n",
       "      <th>3</th>\n",
       "      <td>4.6</td>\n",
       "      <td>3.1</td>\n",
       "      <td>1.5</td>\n",
       "      <td>0.2</td>\n",
       "      <td>0</td>\n",
       "    </tr>\n",
       "    <tr>\n",
       "      <th>4</th>\n",
       "      <td>5.0</td>\n",
       "      <td>3.6</td>\n",
       "      <td>1.4</td>\n",
       "      <td>0.2</td>\n",
       "      <td>0</td>\n",
       "    </tr>\n",
       "  </tbody>\n",
       "</table>\n",
       "</div>"
      ],
      "text/plain": [
       "   sepal length (cm)  sepal width (cm)  petal length (cm)  petal width (cm)  \\\n",
       "0                5.1               3.5                1.4               0.2   \n",
       "1                4.9               3.0                1.4               0.2   \n",
       "2                4.7               3.2                1.3               0.2   \n",
       "3                4.6               3.1                1.5               0.2   \n",
       "4                5.0               3.6                1.4               0.2   \n",
       "\n",
       "   species  \n",
       "0        0  \n",
       "1        0  \n",
       "2        0  \n",
       "3        0  \n",
       "4        0  "
      ]
     },
     "execution_count": 611,
     "metadata": {},
     "output_type": "execute_result"
    }
   ],
   "source": [
    "iris_data.head()"
   ]
  },
  {
   "cell_type": "markdown",
   "metadata": {},
   "source": [
    "## taking only 2 classes setosa and versicolor"
   ]
  },
  {
   "cell_type": "code",
   "execution_count": 612,
   "metadata": {},
   "outputs": [
    {
     "data": {
      "text/plain": [
       "((100, 4), (100,))"
      ]
     },
     "execution_count": 612,
     "metadata": {},
     "output_type": "execute_result"
    }
   ],
   "source": [
    "X = X[:100]\n",
    "y = y[:100]\n",
    "X.shape, y.shape"
   ]
  },
  {
   "cell_type": "code",
   "execution_count": 613,
   "metadata": {},
   "outputs": [
    {
     "data": {
      "text/plain": [
       "array([0, 0, 0, 0, 0, 0, 0, 0, 0, 0, 0, 0, 0, 0, 0, 0, 0, 0, 0, 0, 0, 0,\n",
       "       0, 0, 0, 0, 0, 0, 0, 0, 0, 0, 0, 0, 0, 0, 0, 0, 0, 0, 0, 0, 0, 0,\n",
       "       0, 0, 0, 0, 0, 0, 1, 1, 1, 1, 1, 1, 1, 1, 1, 1, 1, 1, 1, 1, 1, 1,\n",
       "       1, 1, 1, 1, 1, 1, 1, 1, 1, 1, 1, 1, 1, 1, 1, 1, 1, 1, 1, 1, 1, 1,\n",
       "       1, 1, 1, 1, 1, 1, 1, 1, 1, 1, 1, 1])"
      ]
     },
     "execution_count": 613,
     "metadata": {},
     "output_type": "execute_result"
    }
   ],
   "source": [
    "y"
   ]
  },
  {
   "cell_type": "markdown",
   "metadata": {},
   "source": [
    "## dividing the dataset into training and testing"
   ]
  },
  {
   "cell_type": "code",
   "execution_count": 614,
   "metadata": {},
   "outputs": [
    {
     "data": {
      "text/plain": [
       "((80, 4), (80,))"
      ]
     },
     "execution_count": 614,
     "metadata": {},
     "output_type": "execute_result"
    }
   ],
   "source": [
    "X_train, X_test, y_train, y_test = train_test_split(X,y, test_size=0.2, random_state=20)\n",
    "X_train.shape, y_train.shape"
   ]
  },
  {
   "cell_type": "markdown",
   "metadata": {},
   "source": [
    "## calculating prior probablities"
   ]
  },
  {
   "cell_type": "code",
   "execution_count": 615,
   "metadata": {},
   "outputs": [
    {
     "data": {
      "text/plain": [
       "(0.625, 0.375)"
      ]
     },
     "execution_count": 615,
     "metadata": {},
     "output_type": "execute_result"
    }
   ],
   "source": [
    "prior_setosa = 0\n",
    "prior_versicolor = 0\n",
    "\n",
    "for i in range(0, len(y_train)):\n",
    "    if y[i] == 0:\n",
    "        prior_setosa+=1\n",
    "    else:\n",
    "        prior_versicolor+=1\n",
    "\n",
    "prior_setosa = prior_setosa / len(y_train)\n",
    "prior_versicolor = prior_versicolor / len(y_train)\n",
    "prior_setosa, prior_versicolor"
   ]
  },
  {
   "cell_type": "code",
   "execution_count": 616,
   "metadata": {},
   "outputs": [
    {
     "data": {
      "text/plain": [
       "1.0"
      ]
     },
     "execution_count": 616,
     "metadata": {},
     "output_type": "execute_result"
    }
   ],
   "source": [
    "prior_versicolor+prior_setosa"
   ]
  },
  {
   "cell_type": "markdown",
   "metadata": {},
   "source": [
    "### divide the train dataset into two parts  class 0 and class 1"
   ]
  },
  {
   "cell_type": "code",
   "execution_count": 617,
   "metadata": {},
   "outputs": [],
   "source": [
    "y_train_class_0 = y_train[y_train == 0]\n",
    "y_train_class_1 = y_train[y_train == 1]\n",
    "X_train_class_0 = X_train[y_train == 0]\n",
    "X_train_class_1 = X_train[y_train == 1]"
   ]
  },
  {
   "cell_type": "markdown",
   "metadata": {},
   "source": [
    "### divide the test dataset into two parts  class 0 and class 1"
   ]
  },
  {
   "cell_type": "code",
   "execution_count": 618,
   "metadata": {},
   "outputs": [
    {
     "data": {
      "text/plain": [
       "(10, 10)"
      ]
     },
     "execution_count": 618,
     "metadata": {},
     "output_type": "execute_result"
    }
   ],
   "source": [
    "y_test_class_0 = y_test[y_test == 0]\n",
    "y_test_class_1 = y_test[y_test == 1]\n",
    "X_test_class_0 = X_test[y_test == 0]\n",
    "X_test_class_1 = X_test[y_test == 1]\n",
    "\n",
    "len(X_test_class_0), len(X_test_class_1)"
   ]
  },
  {
   "cell_type": "code",
   "execution_count": 619,
   "metadata": {},
   "outputs": [
    {
     "data": {
      "text/plain": [
       "(array([4.9975, 3.43  , 1.455 , 0.2425]),\n",
       " array([0.12674375, 0.1536    , 0.026975  , 0.00994375]),\n",
       " array([5.8975, 2.755 , 4.2225, 1.3075]),\n",
       " array([0.25374375, 0.093475  , 0.20524375, 0.03319375]))"
      ]
     },
     "execution_count": 619,
     "metadata": {},
     "output_type": "execute_result"
    }
   ],
   "source": [
    "mean_0 = np.mean(X_train_class_0, axis=0)\n",
    "var_0 = np.var(X_train_class_0, axis=0)\n",
    "\n",
    "mean_1 = np.mean(X_train_class_1, axis=0)\n",
    "var_1 = np.var(X_train_class_1, axis=0)\n",
    "\n",
    "mean_0, var_0, mean_1, var_1"
   ]
  },
  {
   "cell_type": "code",
   "execution_count": 620,
   "metadata": {},
   "outputs": [],
   "source": [
    "def normalize_probablity(probability):\n",
    "    min_val = min(probability)\n",
    "    max_val = max(probability)\n",
    "\n",
    "    if max_val == min_val:\n",
    "        return [0.5]*len(probability)\n",
    "    \n",
    "    normalized = [(x - min_val) / (max_val - min_val) for x in probability]\n",
    "    return normalized\n",
    "\n",
    "    "
   ]
  },
  {
   "cell_type": "markdown",
   "metadata": {},
   "source": [
    "## gaussian bayes classifier"
   ]
  },
  {
   "cell_type": "code",
   "execution_count": 621,
   "metadata": {},
   "outputs": [],
   "source": [
    "def gaussian_likelihood(x, mean, variance):\n",
    "    exponent = np.exp(-((x - mean) ** 2) / (2 * variance))\n",
    "    return (1 / np.sqrt(2 * np.pi * variance)) * exponent\n",
    "\n",
    "class_0_data = []\n",
    "for i in range(0,len(X_test)):\n",
    "    val = X_test[i]\n",
    "    prod = 1\n",
    "    for i in range(0,4):\n",
    "        prod = prod * gaussian_likelihood(val[i], mean_0[i], var_0[i])\n",
    "    prod = prod * prior_setosa\n",
    "    class_0_data.append(float(prod))\n",
    "\n",
    "class_1_data = []\n",
    "for i in range(0,len(X_test)):\n",
    "    val = X_test[i]\n",
    "    prod = 1\n",
    "    for i in range(0,4):\n",
    "        prod = prod * gaussian_likelihood(val[i], mean_1[i], var_1[i])\n",
    "    prod = prod * prior_versicolor\n",
    "    class_1_data.append(float(prod))\n"
   ]
  },
  {
   "cell_type": "code",
   "execution_count": 622,
   "metadata": {},
   "outputs": [
    {
     "data": {
      "text/plain": [
       "(20, 20)"
      ]
     },
     "execution_count": 622,
     "metadata": {},
     "output_type": "execute_result"
    }
   ],
   "source": [
    "len(class_0_data), len(class_1_data)"
   ]
  },
  {
   "cell_type": "code",
   "execution_count": 623,
   "metadata": {},
   "outputs": [],
   "source": [
    "min_zero_val = min(class_0_data)\n",
    "max_zero_val = max(class_0_data)\n",
    "\n",
    "min_one_val = min(class_1_data)\n",
    "max_one_val = max(class_1_data)\n",
    "\n",
    "class_1_data = normalize_probablity(class_1_data)\n",
    "class_0_data = normalize_probablity(class_0_data)"
   ]
  },
  {
   "cell_type": "code",
   "execution_count": 624,
   "metadata": {},
   "outputs": [
    {
     "name": "stdout",
     "output_type": "stream",
     "text": [
      "[3.738702028763711e-145, 5.533850363076445e-94, 0.4250423591597982, 0.005499982686085032, 1.4083630972683932e-128, 0.5917207093987004, 0.19574131782837556, 0.26020352927164003, 0.9976431209551482, 1.0, 4.275801241378385e-126, 2.237534634928228e-42, 2.922001596719196e-82, 7.078225765520081e-75, 0.029712529969003667, 0.0, 0.01302090375586964, 3.835944007443927e-117, 1.3724207653312107e-99, 0.09589726910175875]\n"
     ]
    }
   ],
   "source": [
    "print(class_0_data)"
   ]
  },
  {
   "cell_type": "code",
   "execution_count": 625,
   "metadata": {},
   "outputs": [
    {
     "name": "stdout",
     "output_type": "stream",
     "text": [
      "[0.006198540243564792, 0.8322806986133732, 1.6480843594314028e-19, 1.038530435259014e-14, 0.03650522093641932, 7.697953467965192e-19, 0.0, 3.9598751778381345e-19, 6.916546361564244e-19, 2.1781999358751203e-18, 0.12060452180534925, 0.003182224915653395, 0.9130524735834741, 1.0, 6.529341543174214e-16, 0.007144722600296803, 9.119510508795317e-13, 0.646822735692361, 0.3456613684530333, 4.887518846729713e-21]\n"
     ]
    }
   ],
   "source": [
    "print(class_1_data)"
   ]
  },
  {
   "cell_type": "markdown",
   "metadata": {},
   "source": [
    "## predicting class label based on feature vector"
   ]
  },
  {
   "cell_type": "code",
   "execution_count": 626,
   "metadata": {},
   "outputs": [
    {
     "data": {
      "text/plain": [
       "[1, 1, 0, 0, 1, 0, 0, 0, 0, 0, 1, 1, 1, 1, 0, 1, 0, 1, 1, 0]"
      ]
     },
     "execution_count": 626,
     "metadata": {},
     "output_type": "execute_result"
    }
   ],
   "source": [
    "class_label_output = []\n",
    "for i in range(0, len(class_0_data)):\n",
    "    if class_0_data[i]>class_1_data[i]:\n",
    "        class_label_output.append(0)\n",
    "    else:\n",
    "        class_label_output.append(1)\n",
    "class_label_output"
   ]
  },
  {
   "cell_type": "code",
   "execution_count": 627,
   "metadata": {},
   "outputs": [
    {
     "name": "stdout",
     "output_type": "stream",
     "text": [
      "[1, 1, 0, 0, 1, 0, 0, 0, 0, 0, 1, 1, 1, 1, 0, 1, 0, 1, 1, 0]\n",
      "[1 1 0 0 1 0 0 0 0 0 1 1 1 1 0 1 0 1 1 0]\n"
     ]
    }
   ],
   "source": [
    "print(class_label_output)\n",
    "print(y_test)"
   ]
  },
  {
   "cell_type": "markdown",
   "metadata": {},
   "source": [
    "## evaluation and confusion matrix"
   ]
  },
  {
   "cell_type": "code",
   "execution_count": 628,
   "metadata": {},
   "outputs": [
    {
     "name": "stdout",
     "output_type": "stream",
     "text": [
      "\n",
      "Confusion Matrix:\n",
      "          Predicted 0  Predicted 1\n",
      "Actual 0           10            0\n",
      "Actual 1            0           10\n",
      "\n",
      "Accuracy: 100.0\n"
     ]
    },
    {
     "data": {
      "image/png": "[encoded data removed]",
      "text/plain": [
       "<Figure size 600x500 with 2 Axes>"
      ]
     },
     "metadata": {},
     "output_type": "display_data"
    }
   ],
   "source": [
    "import seaborn as sns\n",
    "def evaluate_predictions(y_actual, y_pred):\n",
    "    conf_matrix = confusion_matrix(y_actual, y_pred)\n",
    "\n",
    "    conf_matrix_df = pd.DataFrame(conf_matrix, index=[\"Actual 0\", \"Actual 1\"], columns=[\"Predicted 0\", \"Predicted 1\"])\n",
    "    \n",
    "    accuracy = accuracy_score(y_actual, y_pred) * 100\n",
    "    \n",
    "    print(\"\\nConfusion Matrix:\")\n",
    "    print(conf_matrix_df)\n",
    "    print(\"\\nAccuracy:\", round(accuracy, 4))\n",
    "\n",
    "    plt.figure(figsize=(6, 5))\n",
    "    sns.heatmap(conf_matrix, annot=True, fmt='d', cmap='Blues', xticklabels=[\"Predicted 0\", \"Predicted 1\"], yticklabels=[\"Actual 0\", \"Actual 1\"])\n",
    "    plt.title(f\"Confusion Matrix (Accuracy: {round(accuracy, 2)}%)\")\n",
    "    plt.ylabel('Actual')\n",
    "    plt.xlabel('Predicted')\n",
    "    plt.show()\n",
    "\n",
    "\n",
    "evaluate_predictions(y_test, class_label_output)\n"
   ]
  },
  {
   "cell_type": "markdown",
   "metadata": {},
   "source": [
    "## testing user input feature vector"
   ]
  },
  {
   "cell_type": "code",
   "execution_count": 629,
   "metadata": {},
   "outputs": [
    {
     "name": "stdout",
     "output_type": "stream",
     "text": [
      "class 1: versicolor\n"
     ]
    }
   ],
   "source": [
    "user_data = [5.7,\t3.0,\t4.2,\t1.2]\n",
    "product = 1\n",
    "for i in range(0,4):\n",
    "  product = product*gaussian_likelihood(user_data[i],mean_0[i],var_0[i])\n",
    "product = product * prior_setosa\n",
    "\n",
    "min_val = min(class_0_data)\n",
    "max_val = max(class_0_data)\n",
    "\n",
    "normalized_value_zero = (product - min_val) / (max_val - min_val)\n",
    "\n",
    "productq = 1\n",
    "for i in range(0,4):\n",
    "  productq = productq*gaussian_likelihood(user_data[i],mean_1[i],var_1[i])\n",
    "productq = productq * prior_setosa\n",
    "\n",
    "min_val = min(class_1_data)\n",
    "max_val = max(class_1_data)\n",
    "\n",
    "normalized_value_one = (productq - min_val) / (max_val - min_val)\n",
    "\n",
    "if(normalized_value_zero>normalized_value_one):\n",
    "  print(\"class 0: setosa\")\n",
    "else:\n",
    "  print(\"class 1: versicolor\")"
   ]
  }
 ],
 "metadata": {
  "kernelspec": {
   "display_name": ".venv",
   "language": "python",
   "name": "python3"
  },
  "language_info": {
   "codemirror_mode": {
    "name": "ipython",
    "version": 3
   },
   "file_extension": ".py",
   "mimetype": "text/x-python",
   "name": "python",
   "nbconvert_exporter": "python",
   "pygments_lexer": "ipython3",
   "version": "3.12.8"
  }
 },
 "nbformat": 4,
 "nbformat_minor": 2
}
